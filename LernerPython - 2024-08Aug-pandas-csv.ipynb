{
 "cells": [
  {
   "cell_type": "markdown",
   "metadata": {},
   "source": [
    "# Agenda: CSV files\n",
    "\n",
    "1. A little background on CSV\n",
    "2. `read_csv` and `to_csv`\n",
    "3. `sep`\n",
    "4. `header`\n",
    "5. `index_col`\n",
    "6. `usecols`\n",
    "7. `names`\n",
    "8. `dtype`\n",
    "9. `engine`\n",
    "10. `parse_dates`\n",
    "11. `date_format`\n",
    "12. `comment`"
   ]
  },
  {
   "cell_type": "markdown",
   "metadata": {},
   "source": [
    "# What are CSV files?\n",
    "\n",
    "CSV originally stood for \"comma-separated values,\" but now I've heard it can be called \"character-separated values.\"\n",
    "\n",
    "The idea is that we have a text-file format that contains our records:\n",
    "\n",
    "- Every record is one line\n",
    "- On each line, we have multiple fields\n",
    "- Fields are separated by commas"
   ]
  }
 ],
 "metadata": {
  "kernelspec": {
   "display_name": "Python 3 (ipykernel)",
   "language": "python",
   "name": "python3"
  },
  "language_info": {
   "codemirror_mode": {
    "name": "ipython",
    "version": 3
   },
   "file_extension": ".py",
   "mimetype": "text/x-python",
   "name": "python",
   "nbconvert_exporter": "python",
   "pygments_lexer": "ipython3",
   "version": "3.12.1"
  }
 },
 "nbformat": 4,
 "nbformat_minor": 4
}
